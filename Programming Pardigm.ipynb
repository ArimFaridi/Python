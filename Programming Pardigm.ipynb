{
 "cells": [
  {
   "cell_type": "markdown",
   "id": "67550072-8fa2-4bdd-8f58-2a4d1b722173",
   "metadata": {},
   "source": [
    "## Give an example of each of programming Paradigms\n"
   ]
  },
  {
   "cell_type": "code",
   "execution_count": 31,
   "id": "d617e2e2-0f11-4d5f-b89c-c9784c933463",
   "metadata": {},
   "outputs": [
    {
     "name": "stdout",
     "output_type": "stream",
     "text": [
      "Current person ID 1\n",
      "Current person ID 2\n",
      "Current person ID 3\n",
      "Current person ID 4\n"
     ]
    }
   ],
   "source": [
    "#The imperative approach throws the lines of code in a cell \n",
    "# and runs them\n",
    "\n",
    "total=5\n",
    "#create a loop\n",
    "for i in range(1,5):\n",
    "    print(\"Current person ID\",i)"
   ]
  },
  {
   "cell_type": "code",
   "execution_count": 59,
   "id": "fc2438ae-b6ed-49a2-8f12-b5f6bf83a7f4",
   "metadata": {},
   "outputs": [],
   "source": [
    "#Procedural tells us to breakdown the logic into sub-routines\n",
    "# this is usually the repetative part of the code\n",
    "# To start we create a function\n",
    "\n",
    "#Part 1 procedural\n",
    "def sum_numbers():\n",
    "     total = 0\n",
    "     print(\"Current total = \", total)\n",
    "     for i in range(1, 6): \n",
    "      print(\"Current total = \", total,\"at i\",i,\" +total\",total)\n",
    "      total+=i\n",
    "     print(\"Current total = \", total)    \n",
    "     return total   "
   ]
  },
  {
   "cell_type": "code",
   "execution_count": 61,
   "id": "eb1f3934-cc05-4cb9-8625-39efbc654417",
   "metadata": {},
   "outputs": [
    {
     "name": "stdout",
     "output_type": "stream",
     "text": [
      "Current total =  0\n",
      "Current total =  0 at i 1  +total 0\n",
      "Current total =  1 at i 2  +total 1\n",
      "Current total =  3 at i 3  +total 3\n",
      "Current total =  6 at i 4  +total 6\n",
      "Current total =  10 at i 5  +total 10\n",
      "Current total =  15\n",
      "15\n"
     ]
    }
   ],
   "source": [
    "#Part 2 as procedural (decleration)\n",
    "result = sum_numbers()\n",
    "print(result)"
   ]
  },
  {
   "cell_type": "markdown",
   "id": "28cbeb82-00d3-4d88-bf2a-739e351c6d12",
   "metadata": {},
   "source": [
    "## Example 3:Functional Paradigm"
   ]
  },
  {
   "cell_type": "code",
   "execution_count": 36,
   "id": "592f97dd-0b68-4304-9c35-f5950a9ce38d",
   "metadata": {},
   "outputs": [
    {
     "name": "stdout",
     "output_type": "stream",
     "text": [
      "[<function <lambda> at 0x00000250B40A9440>, range(1, 6)]\n"
     ]
    }
   ],
   "source": [
    "# Everything must be encapsulated in a function \n",
    "# functions can be constructed using def\n",
    "from \n",
    "# we can alos define a lambda function\n",
    "# we create the instances reference x,y\n",
    "# create the Logic x+y\n",
    "# operation perform this task for a finite number of iteration range(1,6)\n",
    "result = [lambda x, y: x+y, range(1,6)]\n",
    "\n",
    "print (result)"
   ]
  },
  {
   "cell_type": "code",
   "execution_count": null,
   "id": "51507a83-3478-40e3-9e31-b1d553b68926",
   "metadata": {},
   "outputs": [],
   "source": []
  },
  {
   "cell_type": "code",
   "execution_count": null,
   "id": "ea4a39f7-bdf5-4e15-a5c9-755a09df84f4",
   "metadata": {},
   "outputs": [],
   "source": []
  },
  {
   "cell_type": "code",
   "execution_count": null,
   "id": "0467f089-99d2-4ef6-be65-07215cc76c39",
   "metadata": {},
   "outputs": [],
   "source": []
  },
  {
   "cell_type": "code",
   "execution_count": null,
   "id": "efbd4388-16ef-4fd5-b5d5-5bfdc07d0239",
   "metadata": {},
   "outputs": [],
   "source": []
  },
  {
   "cell_type": "code",
   "execution_count": null,
   "id": "756ab986-768f-4598-b028-9f06df26f7a6",
   "metadata": {},
   "outputs": [],
   "source": []
  },
  {
   "cell_type": "code",
   "execution_count": null,
   "id": "7e307f63-d9d6-474c-ac01-3462a9660d2b",
   "metadata": {},
   "outputs": [],
   "source": []
  },
  {
   "cell_type": "code",
   "execution_count": null,
   "id": "e8274872-c668-44f0-9906-ce30073e99e5",
   "metadata": {},
   "outputs": [],
   "source": []
  }
 ],
 "metadata": {
  "kernelspec": {
   "display_name": "Python 3 (ipykernel)",
   "language": "python",
   "name": "python3"
  },
  "language_info": {
   "codemirror_mode": {
    "name": "ipython",
    "version": 3
   },
   "file_extension": ".py",
   "mimetype": "text/x-python",
   "name": "python",
   "nbconvert_exporter": "python",
   "pygments_lexer": "ipython3",
   "version": "3.12.4"
  }
 },
 "nbformat": 4,
 "nbformat_minor": 5
}
