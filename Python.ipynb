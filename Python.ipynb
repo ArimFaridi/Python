{
 "cells": [
  {
   "cell_type": "markdown",
   "id": "7760a6c4-2cf9-4f8e-8c30-1b3614d43b6e",
   "metadata": {},
   "source": [
    "# First Line of Code"
   ]
  },
  {
   "cell_type": "code",
   "execution_count": 2,
   "id": "9feab157-833f-41dc-8b74-fcc18e6fb834",
   "metadata": {},
   "outputs": [
    {
     "name": "stdout",
     "output_type": "stream",
     "text": [
      "Hello World!\n"
     ]
    }
   ],
   "source": [
    "print(\"Hello World!\")"
   ]
  },
  {
   "cell_type": "markdown",
   "id": "efef48dc-5b07-4eae-9261-07e270ff327e",
   "metadata": {},
   "source": [
    "## Data types\n",
    "- int ( integer, whole number i.e 1 -4 0)\n",
    "- float (decimal, i.e 1.5 7.6 1.0)\n",
    "- str (string, text i.e \"Hello World\", \"1\")\n",
    "- bool (Boolean, True or False)"
   ]
  },
  {
   "cell_type": "code",
   "execution_count": 12,
   "id": "2ff85ee9-27f0-478c-96a9-79a16f4918d0",
   "metadata": {},
   "outputs": [
    {
     "data": {
      "text/plain": [
       "5"
      ]
     },
     "execution_count": 12,
     "metadata": {},
     "output_type": "execute_result"
    }
   ],
   "source": [
    "2 + 3"
   ]
  },
  {
   "cell_type": "code",
   "execution_count": 18,
   "id": "93a07b69-8b11-405d-a94e-9498adcac8fb",
   "metadata": {},
   "outputs": [
    {
     "data": {
      "text/plain": [
       "12"
      ]
     },
     "execution_count": 18,
     "metadata": {},
     "output_type": "execute_result"
    }
   ],
   "source": [
    "#Multiply\n",
    "3*4 "
   ]
  },
  {
   "cell_type": "code",
   "execution_count": 24,
   "id": "486e52a6-0897-466e-bf5d-4f88e7da2b42",
   "metadata": {},
   "outputs": [
    {
     "data": {
      "text/plain": [
       "-1"
      ]
     },
     "execution_count": 24,
     "metadata": {},
     "output_type": "execute_result"
    }
   ],
   "source": [
    "3-4"
   ]
  },
  {
   "cell_type": "code",
   "execution_count": 30,
   "id": "490958ff-60c1-4ff7-8838-94655db16ceb",
   "metadata": {},
   "outputs": [
    {
     "data": {
      "text/plain": [
       "0.75"
      ]
     },
     "execution_count": 30,
     "metadata": {},
     "output_type": "execute_result"
    }
   ],
   "source": [
    "3/4"
   ]
  },
  {
   "cell_type": "markdown",
   "id": "1bdf0544-4884-41c3-b7f5-665cc1c65898",
   "metadata": {},
   "source": [
    "#### Check the value types"
   ]
  },
  {
   "cell_type": "code",
   "execution_count": 36,
   "id": "30eeac83-4956-48ce-a845-2529d346678d",
   "metadata": {},
   "outputs": [
    {
     "data": {
      "text/plain": [
       "int"
      ]
     },
     "execution_count": 36,
     "metadata": {},
     "output_type": "execute_result"
    }
   ],
   "source": [
    "type(4)"
   ]
  },
  {
   "cell_type": "code",
   "execution_count": 40,
   "id": "3227c375-c6ba-45e3-be20-20f175444c8b",
   "metadata": {},
   "outputs": [
    {
     "data": {
      "text/plain": [
       "int"
      ]
     },
     "execution_count": 40,
     "metadata": {},
     "output_type": "execute_result"
    }
   ],
   "source": [
    "type(-12)"
   ]
  },
  {
   "cell_type": "code",
   "execution_count": 44,
   "id": "a31e20fa-2243-4530-84da-1b5f42c13c5b",
   "metadata": {},
   "outputs": [
    {
     "data": {
      "text/plain": [
       "float"
      ]
     },
     "execution_count": 44,
     "metadata": {},
     "output_type": "execute_result"
    }
   ],
   "source": [
    "type(1.0)"
   ]
  },
  {
   "cell_type": "code",
   "execution_count": 48,
   "id": "502b3fa3-580d-47ef-bdae-001e2f3f3703",
   "metadata": {},
   "outputs": [
    {
     "data": {
      "text/plain": [
       "str"
      ]
     },
     "execution_count": 48,
     "metadata": {},
     "output_type": "execute_result"
    }
   ],
   "source": [
    "type(\"Hello World!\")"
   ]
  },
  {
   "cell_type": "code",
   "execution_count": 52,
   "id": "9bb031a7-db00-407e-b5aa-3c4aa96244db",
   "metadata": {},
   "outputs": [
    {
     "data": {
      "text/plain": [
       "bool"
      ]
     },
     "execution_count": 52,
     "metadata": {},
     "output_type": "execute_result"
    }
   ],
   "source": [
    "type(True)"
   ]
  },
  {
   "cell_type": "code",
   "execution_count": 4,
   "id": "67179047-8d42-4470-97ca-f24d7a59a02a",
   "metadata": {},
   "outputs": [
    {
     "data": {
      "text/plain": [
       "bool"
      ]
     },
     "execution_count": 4,
     "metadata": {},
     "output_type": "execute_result"
    }
   ],
   "source": [
    "type(True)"
   ]
  },
  {
   "cell_type": "code",
   "execution_count": 60,
   "id": "35b70efc-0a37-4463-bf73-c48fb291917a",
   "metadata": {},
   "outputs": [
    {
     "data": {
      "text/plain": [
       "'Hello World'"
      ]
     },
     "execution_count": 60,
     "metadata": {},
     "output_type": "execute_result"
    }
   ],
   "source": [
    "\"Hello World!\"\n",
    "'Hello World'"
   ]
  },
  {
   "cell_type": "code",
   "execution_count": 64,
   "id": "f32d105b-1040-4399-9948-fad12099f1b7",
   "metadata": {},
   "outputs": [
    {
     "data": {
      "text/plain": [
       "str"
      ]
     },
     "execution_count": 64,
     "metadata": {},
     "output_type": "execute_result"
    }
   ],
   "source": [
    "type('Hello World')"
   ]
  },
  {
   "cell_type": "code",
   "execution_count": 3,
   "id": "1edc4069-1e08-465f-a72e-553d64b8bc14",
   "metadata": {},
   "outputs": [
    {
     "data": {
      "text/plain": [
       "'Balance:$5425.93'"
      ]
     },
     "execution_count": 3,
     "metadata": {},
     "output_type": "execute_result"
    }
   ],
   "source": [
    "\"Balance:$%.2f\" % 5425.9292"
   ]
  },
  {
   "cell_type": "code",
   "execution_count": 5,
   "id": "9c0fe3a4-b2c0-42f2-91e4-40c457bf9cee",
   "metadata": {},
   "outputs": [],
   "source": [
    "#Algebraic lineage\n",
    "\n",
    "y=5\n",
    "\n",
    "y=3+5j # == 5"
   ]
  },
  {
   "cell_type": "code",
   "execution_count": 9,
   "id": "d7059541-3c23-4fa9-8368-c2e7ce9b7bd1",
   "metadata": {},
   "outputs": [
    {
     "data": {
      "text/plain": [
       "int"
      ]
     },
     "execution_count": 9,
     "metadata": {},
     "output_type": "execute_result"
    }
   ],
   "source": [
    "type(5)"
   ]
  },
  {
   "cell_type": "code",
   "execution_count": 17,
   "id": "30bf12a3-e719-4253-9db5-b8c090e32fc9",
   "metadata": {},
   "outputs": [
    {
     "data": {
      "text/plain": [
       "complex"
      ]
     },
     "execution_count": 17,
     "metadata": {},
     "output_type": "execute_result"
    }
   ],
   "source": [
    "type(3+5j)"
   ]
  },
  {
   "cell_type": "code",
   "execution_count": 19,
   "id": "b71c66fb-303f-4370-b4e3-104ee4003e90",
   "metadata": {},
   "outputs": [],
   "source": [
    "m = 2\n",
    "x = 3\n",
    "b = 1"
   ]
  },
  {
   "cell_type": "code",
   "execution_count": 27,
   "id": "06e0d51f-63dd-4f58-b658-b451b1dcc503",
   "metadata": {},
   "outputs": [],
   "source": [
    "y = m*x + b # Linear Regression"
   ]
  },
  {
   "cell_type": "code",
   "execution_count": 31,
   "id": "bbb6c1a2-6390-4a91-9aa1-4fb35f4bb923",
   "metadata": {},
   "outputs": [
    {
     "data": {
      "text/plain": [
       "7"
      ]
     },
     "execution_count": 31,
     "metadata": {},
     "output_type": "execute_result"
    }
   ],
   "source": [
    "y"
   ]
  },
  {
   "cell_type": "markdown",
   "id": "4d2a2909-5355-49de-89e2-998c8f3fa1e8",
   "metadata": {},
   "source": [
    "## Notebook Shortcuts\n",
    "- shift + enter : run the current cell and move on to the next one\n",
    "- a: add an empty cell above\n",
    "- b: add an empty cell below\n",
    "- zz: to recover deleted cells\n",
    "- dd: delete current cell\n",
    "- m: change the cell from code to markdown\n",
    "- y: change cell to code\n",
    "- x: to cut the cell\n",
    "\n",
    "----------------------------------\n",
    "# Maths Operations"
   ]
  },
  {
   "cell_type": "code",
   "execution_count": 36,
   "id": "8b820162-1551-4915-aacd-31d5676d26f4",
   "metadata": {},
   "outputs": [
    {
     "data": {
      "text/plain": [
       "5.0"
      ]
     },
     "execution_count": 36,
     "metadata": {},
     "output_type": "execute_result"
    }
   ],
   "source": [
    "# division will always result in float\n",
    "10/2 # == 5"
   ]
  },
  {
   "cell_type": "code",
   "execution_count": 40,
   "id": "18238ec7-8ccd-4486-aad9-79845a90a860",
   "metadata": {},
   "outputs": [
    {
     "data": {
      "text/plain": [
       "3"
      ]
     },
     "execution_count": 40,
     "metadata": {},
     "output_type": "execute_result"
    }
   ],
   "source": [
    "1+2"
   ]
  },
  {
   "cell_type": "code",
   "execution_count": 44,
   "id": "a0cb0a03-dd1e-4503-acf4-688ecae9f566",
   "metadata": {},
   "outputs": [
    {
     "data": {
      "text/plain": [
       "1"
      ]
     },
     "execution_count": 44,
     "metadata": {},
     "output_type": "execute_result"
    }
   ],
   "source": [
    "1*1"
   ]
  },
  {
   "cell_type": "code",
   "execution_count": 48,
   "id": "58101543-9e7e-433e-90ae-9748411565d0",
   "metadata": {},
   "outputs": [
    {
     "data": {
      "text/plain": [
       "1.0"
      ]
     },
     "execution_count": 48,
     "metadata": {},
     "output_type": "execute_result"
    }
   ],
   "source": [
    "# Multilication with float always results in float\n",
    "1* 1.0"
   ]
  },
  {
   "cell_type": "code",
   "execution_count": 52,
   "id": "c186c2f4-787e-42bc-867d-5534d721fe0c",
   "metadata": {},
   "outputs": [
    {
     "data": {
      "text/plain": [
       "4"
      ]
     },
     "execution_count": 52,
     "metadata": {},
     "output_type": "execute_result"
    }
   ],
   "source": [
    "2+2"
   ]
  },
  {
   "cell_type": "code",
   "execution_count": 56,
   "id": "979b7b9a-3ce5-433b-8c54-e64c5ca17761",
   "metadata": {},
   "outputs": [
    {
     "data": {
      "text/plain": [
       "4.0"
      ]
     },
     "execution_count": 56,
     "metadata": {},
     "output_type": "execute_result"
    }
   ],
   "source": [
    "2+2.0"
   ]
  },
  {
   "cell_type": "code",
   "execution_count": 60,
   "id": "d1b4710b-6168-4355-982c-162f6b0abd6d",
   "metadata": {},
   "outputs": [
    {
     "data": {
      "text/plain": [
       "1.672364987238472"
      ]
     },
     "execution_count": 60,
     "metadata": {},
     "output_type": "execute_result"
    }
   ],
   "source": [
    "1.67236498723847203874 # non-termination decimal value"
   ]
  },
  {
   "cell_type": "markdown",
   "id": "37494b56-c109-4f20-89c5-0b39bbe78454",
   "metadata": {},
   "source": [
    "$10^2$ - 10 squared or $10\\times10$"
   ]
  },
  {
   "cell_type": "code",
   "execution_count": 73,
   "id": "0a42cd8f-a413-4100-ad70-b715633b5b0b",
   "metadata": {},
   "outputs": [
    {
     "data": {
      "text/plain": [
       "100"
      ]
     },
     "execution_count": 73,
     "metadata": {},
     "output_type": "execute_result"
    }
   ],
   "source": [
    "# Power / exponent\n",
    "10**2"
   ]
  },
  {
   "cell_type": "markdown",
   "id": "5df5b5ae-870b-4848-8be8-9605ee0c8477",
   "metadata": {},
   "source": [
    "$\\sqrt(100) = 100^(0.5)$"
   ]
  },
  {
   "cell_type": "code",
   "execution_count": 78,
   "id": "d92371e9-7061-4529-ac54-1ed77a605b56",
   "metadata": {},
   "outputs": [
    {
     "data": {
      "text/plain": [
       "10.0"
      ]
     },
     "execution_count": 78,
     "metadata": {},
     "output_type": "execute_result"
    }
   ],
   "source": [
    "100**0.5"
   ]
  },
  {
   "cell_type": "code",
   "execution_count": 80,
   "id": "fd703dce-57a1-496f-a001-94aa455f77ea",
   "metadata": {},
   "outputs": [
    {
     "data": {
      "text/plain": [
       "1"
      ]
     },
     "execution_count": 80,
     "metadata": {},
     "output_type": "execute_result"
    }
   ],
   "source": [
    "#The modulus operator checks for remainders\n",
    "10%3"
   ]
  },
  {
   "cell_type": "code",
   "execution_count": 87,
   "id": "0817cf8c-87c3-4d36-9f10-84aeaf71efc2",
   "metadata": {},
   "outputs": [
    {
     "data": {
      "text/plain": [
       "2"
      ]
     },
     "execution_count": 87,
     "metadata": {},
     "output_type": "execute_result"
    }
   ],
   "source": [
    "11%3"
   ]
  },
  {
   "cell_type": "code",
   "execution_count": 102,
   "id": "597de3c0-192e-41c5-bfcb-e3678778aeb2",
   "metadata": {},
   "outputs": [
    {
     "data": {
      "text/plain": [
       "0"
      ]
     },
     "execution_count": 102,
     "metadata": {},
     "output_type": "execute_result"
    }
   ],
   "source": [
    "12%3"
   ]
  },
  {
   "cell_type": "markdown",
   "id": "9b9f2c45-e8aa-4444-bdfd-4b49fdd20c6e",
   "metadata": {},
   "source": [
    "### Convertin Data Types"
   ]
  },
  {
   "cell_type": "code",
   "execution_count": 105,
   "id": "6002c96e-c107-4099-aaaa-bcbe602f128e",
   "metadata": {},
   "outputs": [
    {
     "data": {
      "text/plain": [
       "1"
      ]
     },
     "execution_count": 105,
     "metadata": {},
     "output_type": "execute_result"
    }
   ],
   "source": [
    "int(1.0)"
   ]
  },
  {
   "cell_type": "code",
   "execution_count": 107,
   "id": "2e5134fd-c93f-49e6-949d-ac984e28c2d6",
   "metadata": {},
   "outputs": [
    {
     "data": {
      "text/plain": [
       "int"
      ]
     },
     "execution_count": 107,
     "metadata": {},
     "output_type": "execute_result"
    }
   ],
   "source": [
    "type(int(1.0))"
   ]
  },
  {
   "cell_type": "markdown",
   "id": "05c05eec-6795-4e19-b5eb-e67783bfc66c",
   "metadata": {},
   "source": [
    "1.0 - int() -> type() how the machine sees it"
   ]
  },
  {
   "cell_type": "code",
   "execution_count": 113,
   "id": "91283919-bfd0-4d29-a672-3363d9493793",
   "metadata": {},
   "outputs": [
    {
     "data": {
      "text/plain": [
       "int"
      ]
     },
     "execution_count": 113,
     "metadata": {},
     "output_type": "execute_result"
    }
   ],
   "source": [
    "type(int(\"1\"))"
   ]
  },
  {
   "cell_type": "code",
   "execution_count": 115,
   "id": "0fae4877-e8c6-4971-bc6a-a645367e38e6",
   "metadata": {},
   "outputs": [
    {
     "data": {
      "text/plain": [
       "2"
      ]
     },
     "execution_count": 115,
     "metadata": {},
     "output_type": "execute_result"
    }
   ],
   "source": [
    "int(\"2\")"
   ]
  },
  {
   "cell_type": "code",
   "execution_count": 119,
   "id": "33ae46ee-686d-4db3-9abf-cfe2b4388361",
   "metadata": {},
   "outputs": [
    {
     "data": {
      "text/plain": [
       "'1'"
      ]
     },
     "execution_count": 119,
     "metadata": {},
     "output_type": "execute_result"
    }
   ],
   "source": [
    "str(1)"
   ]
  },
  {
   "cell_type": "code",
   "execution_count": 124,
   "id": "2ce4b947-1904-4226-81ce-49d1953d45ba",
   "metadata": {},
   "outputs": [
    {
     "data": {
      "text/plain": [
       "str"
      ]
     },
     "execution_count": 124,
     "metadata": {},
     "output_type": "execute_result"
    }
   ],
   "source": [
    "type(str(1))"
   ]
  },
  {
   "cell_type": "code",
   "execution_count": 128,
   "id": "fc5a1342-3ee9-43b7-b71f-caddb1eebf45",
   "metadata": {},
   "outputs": [
    {
     "data": {
      "text/plain": [
       "4.0"
      ]
     },
     "execution_count": 128,
     "metadata": {},
     "output_type": "execute_result"
    }
   ],
   "source": [
    "float(4)"
   ]
  },
  {
   "cell_type": "code",
   "execution_count": 152,
   "id": "a1bd7918-e602-4054-981f-25025aa7ab62",
   "metadata": {},
   "outputs": [
    {
     "data": {
      "text/plain": [
       "float"
      ]
     },
     "execution_count": 152,
     "metadata": {},
     "output_type": "execute_result"
    }
   ],
   "source": [
    "type(float(4))"
   ]
  },
  {
   "cell_type": "code",
   "execution_count": 156,
   "id": "3f1d1663-4867-4a3e-b394-275bb45bf009",
   "metadata": {},
   "outputs": [
    {
     "data": {
      "text/plain": [
       "4"
      ]
     },
     "execution_count": 156,
     "metadata": {},
     "output_type": "execute_result"
    }
   ],
   "source": [
    "int(4.6)"
   ]
  },
  {
   "cell_type": "code",
   "execution_count": 180,
   "id": "f109b2e0-e748-4f39-8390-13f914b35eb9",
   "metadata": {},
   "outputs": [
    {
     "data": {
      "text/plain": [
       "5"
      ]
     },
     "execution_count": 180,
     "metadata": {},
     "output_type": "execute_result"
    }
   ],
   "source": [
    "int(round(4.6))"
   ]
  },
  {
   "cell_type": "code",
   "execution_count": 2,
   "id": "b7faa5d7-ff2c-4333-b69d-d98b09efda22",
   "metadata": {},
   "outputs": [
    {
     "data": {
      "text/plain": [
       "5"
      ]
     },
     "execution_count": 2,
     "metadata": {},
     "output_type": "execute_result"
    }
   ],
   "source": [
    "3+2"
   ]
  },
  {
   "cell_type": "code",
   "execution_count": 162,
   "id": "01c66f58-e920-4e8a-8b3e-0865a0ffa059",
   "metadata": {},
   "outputs": [
    {
     "data": {
      "text/plain": [
       "5"
      ]
     },
     "execution_count": 162,
     "metadata": {},
     "output_type": "execute_result"
    }
   ],
   "source": [
    "3+ int(\"2\")"
   ]
  },
  {
   "cell_type": "code",
   "execution_count": 168,
   "id": "7d28e88c-2cea-4d25-a117-5042a29a9047",
   "metadata": {},
   "outputs": [
    {
     "data": {
      "text/plain": [
       "'HelloWorld!'"
      ]
     },
     "execution_count": 168,
     "metadata": {},
     "output_type": "execute_result"
    }
   ],
   "source": [
    "\"Hello\" + \"World!\""
   ]
  },
  {
   "cell_type": "code",
   "execution_count": 172,
   "id": "a3f52877-4ac6-4f50-93ff-5626e741ab0c",
   "metadata": {},
   "outputs": [
    {
     "data": {
      "text/plain": [
       "'23'"
      ]
     },
     "execution_count": 172,
     "metadata": {},
     "output_type": "execute_result"
    }
   ],
   "source": [
    "\"2\"+ str(3)"
   ]
  },
  {
   "cell_type": "code",
   "execution_count": 176,
   "id": "522c8adb-0901-4d9d-b623-388909b569de",
   "metadata": {},
   "outputs": [
    {
     "data": {
      "text/plain": [
       "'222'"
      ]
     },
     "execution_count": 176,
     "metadata": {},
     "output_type": "execute_result"
    }
   ],
   "source": [
    "\"2\" * 3"
   ]
  },
  {
   "cell_type": "code",
   "execution_count": 178,
   "id": "64063188-0590-4fe9-8a8f-50c971052945",
   "metadata": {},
   "outputs": [
    {
     "data": {
      "text/plain": [
       "'HelloHelloHelloHelloHello'"
      ]
     },
     "execution_count": 178,
     "metadata": {},
     "output_type": "execute_result"
    }
   ],
   "source": [
    "\"Hello\" * 5"
   ]
  },
  {
   "cell_type": "code",
   "execution_count": null,
   "id": "f7ea395c-c295-43d4-857a-f0741d12882a",
   "metadata": {},
   "outputs": [],
   "source": []
  },
  {
   "cell_type": "code",
   "execution_count": null,
   "id": "adc10092-3170-49d3-899d-709b2bd7b8c2",
   "metadata": {},
   "outputs": [],
   "source": []
  },
  {
   "cell_type": "code",
   "execution_count": null,
   "id": "5254755e-20b9-4281-a379-a33cf73c3fe1",
   "metadata": {},
   "outputs": [],
   "source": []
  },
  {
   "cell_type": "code",
   "execution_count": null,
   "id": "bb70023f-8922-48bf-a498-c14f6da705e1",
   "metadata": {},
   "outputs": [],
   "source": []
  },
  {
   "cell_type": "code",
   "execution_count": null,
   "id": "cae8b306-f35c-4bfb-9791-861a06e4f6c7",
   "metadata": {},
   "outputs": [],
   "source": []
  },
  {
   "cell_type": "code",
   "execution_count": null,
   "id": "4d86bc44-817d-41da-921b-9db3b0f93206",
   "metadata": {},
   "outputs": [],
   "source": []
  },
  {
   "cell_type": "code",
   "execution_count": null,
   "id": "15775046-1c35-47ba-b97d-0710e57de062",
   "metadata": {},
   "outputs": [],
   "source": []
  },
  {
   "cell_type": "code",
   "execution_count": null,
   "id": "37b65033-9865-4247-b118-748b60e44591",
   "metadata": {},
   "outputs": [],
   "source": []
  },
  {
   "cell_type": "code",
   "execution_count": null,
   "id": "a67aaccc-64b9-4051-a4da-6779c499f04c",
   "metadata": {},
   "outputs": [],
   "source": []
  }
 ],
 "metadata": {
  "kernelspec": {
   "display_name": "Python 3 (ipykernel)",
   "language": "python",
   "name": "python3"
  },
  "language_info": {
   "codemirror_mode": {
    "name": "ipython",
    "version": 3
   },
   "file_extension": ".py",
   "mimetype": "text/x-python",
   "name": "python",
   "nbconvert_exporter": "python",
   "pygments_lexer": "ipython3",
   "version": "3.12.4"
  }
 },
 "nbformat": 4,
 "nbformat_minor": 5
}
